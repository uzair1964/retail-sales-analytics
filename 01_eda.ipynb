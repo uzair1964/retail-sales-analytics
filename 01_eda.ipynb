{
  "cells": [
    {
      "cell_type": "markdown",
      "metadata": {},
      "source": [
        "# EDA: Retail Sales Analytics"
      ]
    },
    {
      "cell_type": "code",
      "execution_count": null,
      "metadata": {},
      "outputs": [],
      "source": [
        "import pandas as pd\n",
        "import seaborn as sns\n",
        "import matplotlib.pyplot as plt\n",
        "df = pd.read_csv('../data/raw/transactions.csv', parse_dates=['order_datetime'])\n",
        "df.head()\n"
      ]
    },
    {
      "cell_type": "code",
      "execution_count": null,
      "metadata": {},
      "outputs": [],
      "source": [
        "# Health checks\n",
        "df.info()\n",
        "df.describe(include='all').T.head(20)\n",
        "df.isna().mean().sort_values(ascending=False).head(20)\n"
      ]
    },
    {
      "cell_type": "code",
      "execution_count": null,
      "metadata": {},
      "outputs": [],
      "source": [
        "# Basic cleaning examples\n",
        "df = df[df['unit_price'] > 0].copy()\n",
        "df['order_date'] = df['order_datetime'].dt.date\n",
        "df['month'] = df['order_datetime'].dt.to_period('M')\n",
        "df.head()\n"
      ]
    },
    {
      "cell_type": "code",
      "execution_count": null,
      "metadata": {},
      "outputs": [],
      "source": [
        "# EDA visuals\n",
        "sns.countplot(x='status', data=df); plt.show()\n",
        "sns.boxplot(x='category', y='net_revenue', data=df); plt.xticks(rotation=45); plt.show()\n",
        "corr = df[['unit_price','quantity','discount_pct','net_revenue','profit','margin_pct']].corr(numeric_only=True)\n",
        "sns.heatmap(corr, annot=True, fmt='.2f', cmap='Blues'); plt.show()\n"
      ]
    }
  ],
  "metadata": {
    "kernelspec": {
      "display_name": "Python 3",
      "language": "python",
      "name": "python3"
    },
    "language_info": {
      "name": "python",
      "version": "3.x"
    }
  },
  "nbformat": 4,
  "nbformat_minor": 5
}